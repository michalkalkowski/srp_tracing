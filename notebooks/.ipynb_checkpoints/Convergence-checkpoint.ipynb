{
 "cells": [
  {
   "cell_type": "markdown",
   "metadata": {},
   "source": [
    "This notebook demonstrates the convergence of the SRP solver. The test case is a V-weld with local orientations following the Ogilvy map. Two 32-element arrays are placed at the top and the bottom faces of the sample. \n",
    "\n",
    "The SRP tracer grid coincides with the Ogilvy grid and the only parameter to control the accuracy of the SRP solver is the number of seeds per edge of the grid."
   ]
  },
  {
   "cell_type": "code",
   "execution_count": 2,
   "metadata": {},
   "outputs": [],
   "source": [
    "%matplotlib widget"
   ]
  },
  {
   "cell_type": "code",
   "execution_count": 3,
   "metadata": {},
   "outputs": [
    {
     "name": "stderr",
     "output_type": "stream",
     "text": [
      "/media/michal/MKK_data/mCloud/projects/ADVISE/ogilvy_weld/ogilvy/ogilvy_model.py:164: RuntimeWarning: invalid value encountered in less\n",
      "  self.grain_orientations[self.grain_orientations < -np.pi/2] += np.pi\n",
      "/media/michal/MKK_data/mCloud/projects/ADVISE/ogilvy_weld/ogilvy/ogilvy_model.py:165: RuntimeWarning: invalid value encountered in greater\n",
      "  self.grain_orientations[self.grain_orientations > np.pi/2] -= np.pi\n",
      "/media/michal/MKK_data/mCloud/projects/ADVISE/ogilvy_weld/ogilvy/ogilvy_model.py:207: FutureWarning: Using a non-tuple sequence for multidimensional indexing is deprecated; use `arr[tuple(seq)]` instead of `arr[seq]`. In the future this will be interpreted as an array index, `arr[np.array(seq)]`, which will result either in an error or a different result.\n",
      "  neighbours = self.grain_orientations_full[ind]\n",
      "  0%|          | 0/1104 [00:00<?, ?it/s]"
     ]
    },
    {
     "name": "stdout",
     "output_type": "stream",
     "text": [
      "------Ogilvy model setup------\n",
      "Tangent parameter T: 2\n",
      "Rate of change along the z-axis: 1.3\n",
      "Weld thickness: 36.8\n",
      "Chamfer base: 1.0\n",
      "Chamfer top: 40\n",
      "----------------------------\n"
     ]
    },
    {
     "name": "stderr",
     "output_type": "stream",
     "text": [
      "100%|██████████| 1104/1104 [00:00<00:00, 2460.08it/s]\n",
      "100%|██████████| 1104/1104 [00:00<00:00, 1681.97it/s]\n",
      "100%|██████████| 1104/1104 [00:01<00:00, 918.70it/s]\n",
      "100%|██████████| 1104/1104 [00:02<00:00, 479.40it/s]\n",
      "100%|██████████| 1104/1104 [00:02<00:00, 373.77it/s]\n",
      "100%|██████████| 1104/1104 [00:04<00:00, 238.10it/s]\n"
     ]
    },
    {
     "data": {
      "application/vnd.jupyter.widget-view+json": {
       "model_id": "a809e902dab3496582d095cdda7be0b6",
       "version_major": 2,
       "version_minor": 0
      },
      "text/plain": [
       "Canvas(toolbar=Toolbar(toolitems=[('Home', 'Reset original view', 'home', 'home'), ('Back', 'Back to previous …"
      ]
     },
     "metadata": {},
     "output_type": "display_data"
    },
    {
     "data": {
      "application/vnd.jupyter.widget-view+json": {
       "model_id": "2bd414c3c0eb46c096b6eee9c1a98f2b",
       "version_major": 2,
       "version_minor": 0
      },
      "text/plain": [
       "Canvas(toolbar=Toolbar(toolitems=[('Home', 'Reset original view', 'home', 'home'), ('Back', 'Back to previous …"
      ]
     },
     "metadata": {},
     "output_type": "display_data"
    }
   ],
   "source": [
    "%run ../tests/test_convergence_rect_ogilvy.py"
   ]
  },
  {
   "cell_type": "markdown",
   "metadata": {},
   "source": [
    "The method converges very quickly, however some residual error remains and cannot be resolved by increasing the number of seeds per edge. The reasons for the discrepancy are not a subject of concern since the error is insignificant for the application of interest. They may be related to the time-of-arrival extraction from the FE data, too. The two graphs above show both the mean and the maximum error. The maximum error is usually dominated by the receivers close to the weld root, so it is very localised. The mean error is usually well below 0.05 us which satisfies practical requirements. An illustrative error map for a configurations which can be defined as converged (8 seeds per edge) is shown below. "
   ]
  },
  {
   "cell_type": "code",
   "execution_count": 9,
   "metadata": {},
   "outputs": [
    {
     "data": {
      "application/vnd.jupyter.widget-view+json": {
       "model_id": "a4922c0b9f794315b10b603a70fa79c1",
       "version_major": 2,
       "version_minor": 0
      },
      "text/plain": [
       "Canvas(toolbar=Toolbar(toolitems=[('Home', 'Reset original view', 'home', 'home'), ('Back', 'Back to previous …"
      ]
     },
     "metadata": {},
     "output_type": "display_data"
    }
   ],
   "source": [
    "plt.figure()\n",
    "plt.imshow(1e6*absolute[3])\n",
    "plt.xlabel('top elements')\n",
    "plt.ylabel('bottom elements')\n",
    "plt.colorbar(label='absolute error in us')\n",
    "plt.tight_layout()"
   ]
  }
 ],
 "metadata": {
  "kernelspec": {
   "display_name": "Python 3",
   "language": "python",
   "name": "python3"
  },
  "language_info": {
   "codemirror_mode": {
    "name": "ipython",
    "version": 3
   },
   "file_extension": ".py",
   "mimetype": "text/x-python",
   "name": "python",
   "nbconvert_exporter": "python",
   "pygments_lexer": "ipython3",
   "version": "3.7.6"
  }
 },
 "nbformat": 4,
 "nbformat_minor": 4
}
